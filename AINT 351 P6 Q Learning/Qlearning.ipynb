{
 "cells": [
  {
   "cell_type": "markdown",
   "metadata": {},
   "source": [
    "# Qlearning\n",
    "## Task 1: Transition function\n",
    "* States are numbered from 1 (bottom left) to 11 (top right) with the goal state being state 2, as shown in Figure 1. \n",
    "\n",
    "* Actions are numbered 1 (north), 2 (east), 3 (south) and 4 (west). \n",
    "\n",
    "* Write a deterministic transition function that takes a state and action as parameters and returns the next state."
   ]
  },
  {
   "cell_type": "code",
   "execution_count": 10,
   "metadata": {},
   "outputs": [
    {
     "name": "stdout",
     "output_type": "stream",
     "text": [
      "moving North\n",
      "new state is 4\n"
     ]
    }
   ],
   "source": [
    "import numpy as np\n",
    "import matplotlib.pyplot as plt\n",
    "from mpl_toolkits.mplot3d import Axes3D\n",
    "from numpy import random\n",
    "from functions import state\n",
    "from functions import initQ\n",
    "worldmap = np.matrix('0,0,0,0,0,0,0;0,7,8,9,10,11,0;0,4,0,5,0,6,0;0,1,0,2,0,3,0;0,0,0,0,0,0,0')\n",
    "State = state(1,worldmap)\n",
    "new,reward=State.move(1)\n",
    "print('new state is', new)"
   ]
  },
  {
   "cell_type": "markdown",
   "metadata": {},
   "source": [
    "# 2. Starting State \n",
    "\n",
    "* Write a function that returns a random starting state.\n",
    "\n",
    "* This state can be any of the states in Fig. 1, except forthe goal state."
   ]
  },
  {
   "cell_type": "code",
   "execution_count": 11,
   "metadata": {},
   "outputs": [
    {
     "data": {
      "text/plain": [
       "1"
      ]
     },
     "execution_count": 11,
     "metadata": {},
     "output_type": "execute_result"
    }
   ],
   "source": [
    "state0 = 2\n",
    "while state0 == 2:\n",
    "    state0 = random.randint(1, 11)\n",
    "state0"
   ]
  },
  {
   "cell_type": "markdown",
   "metadata": {},
   "source": [
    "## 3. Reward Function\n",
    "\n",
    "* Create a reward function that takes a state and an action and returns 10 if the state is 5 and the action is 3. \n",
    "* In all other cases, it should return 0"
   ]
  },
  {
   "cell_type": "code",
   "execution_count": 12,
   "metadata": {},
   "outputs": [
    {
     "name": "stdout",
     "output_type": "stream",
     "text": [
      "moving North\n",
      "the reward for moving from 1-4 is 0\n",
      "moving South\n",
      "the reward for moving from 5-2 is 10\n"
     ]
    }
   ],
   "source": [
    "non_reward = state(1,worldmap)\n",
    "x, reward = non_reward.move(1)\n",
    "print('the reward for moving from 1-4 is',reward)\n",
    "rewardState = state(5,worldmap)\n",
    "x, reward = rewardState.move(3)\n",
    "print('the reward for moving from 5-2 is', reward)"
   ]
  },
  {
   "cell_type": "markdown",
   "metadata": {},
   "source": [
    "## 4. Q-function Table \n",
    "* Create a function initQ, that returns an initial Q-table, as an 11x4 matrix of random values between 0.01 and 0.1.\n",
    "* Plot the initial Q-function table using a surface plot as shown in Fig. 3. "
   ]
  },
  {
   "cell_type": "code",
   "execution_count": 31,
   "metadata": {},
   "outputs": [
    {
     "data": {
      "text/plain": [
       "array([[0.06662613, 0.0655102 , 0.03301039, 0.07315404],\n",
       "       [0.01641121, 0.08664133, 0.06755251, 0.08092181],\n",
       "       [0.0775182 , 0.08998897, 0.07530673, 0.00187315],\n",
       "       [0.05562226, 0.09542561, 0.07894268, 0.04001391],\n",
       "       [0.06482447, 0.07530261, 0.0906458 , 0.07532845],\n",
       "       [0.0806444 , 0.0678024 , 0.03815517, 0.08696342],\n",
       "       [0.07285078, 0.03329404, 0.08160221, 0.06623286],\n",
       "       [0.05156414, 0.03683692, 0.00573831, 0.08968661],\n",
       "       [0.08931188, 0.01463231, 0.0776119 , 0.01353347],\n",
       "       [0.08628274, 0.08330871, 0.00446717, 0.05446962],\n",
       "       [0.05780444, 0.07795122, 0.01635184, 0.08822515]])"
      ]
     },
     "execution_count": 31,
     "metadata": {},
     "output_type": "execute_result"
    }
   ],
   "source": [
    "table = initQ(11,4)\n",
    "table"
   ]
  },
  {
   "cell_type": "code",
   "execution_count": null,
   "metadata": {},
   "outputs": [],
   "source": []
  }
 ],
 "metadata": {
  "kernelspec": {
   "display_name": "Python 3",
   "language": "python",
   "name": "python3"
  },
  "language_info": {
   "codemirror_mode": {
    "name": "ipython",
    "version": 3
   },
   "file_extension": ".py",
   "mimetype": "text/x-python",
   "name": "python",
   "nbconvert_exporter": "python",
   "pygments_lexer": "ipython3",
   "version": "3.7.4"
  }
 },
 "nbformat": 4,
 "nbformat_minor": 2
}
